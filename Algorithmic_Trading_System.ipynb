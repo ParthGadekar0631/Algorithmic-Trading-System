{
  "nbformat": 4,
  "nbformat_minor": 0,
  "metadata": {
    "colab": {
      "provenance": [],
      "authorship_tag": "ABX9TyMfn2sFsrze+P40C0jRcs0R",
      "include_colab_link": true
    },
    "kernelspec": {
      "name": "python3",
      "display_name": "Python 3"
    },
    "language_info": {
      "name": "python"
    }
  },
  "cells": [
    {
      "cell_type": "markdown",
      "metadata": {
        "id": "view-in-github",
        "colab_type": "text"
      },
      "source": [
        "<a href=\"https://colab.research.google.com/github/ParthGadekar0631/Algorithmic-Trading-System/blob/main/Algorithmic_Trading_System.ipynb\" target=\"_parent\"><img src=\"https://colab.research.google.com/assets/colab-badge.svg\" alt=\"Open In Colab\"/></a>"
      ]
    },
    {
      "source": [
        "import pandas as pd\n",
        "!pip install quandl # Install the quandl package\n",
        "import quandl as q # Import the package after installation"
      ],
      "cell_type": "code",
      "metadata": {
        "colab": {
          "base_uri": "https://localhost:8080/"
        },
        "id": "Kx1LSHPrsPO1",
        "outputId": "53a3c422-87f9-4e58-a883-05d0ef3d8aef"
      },
      "execution_count": 3,
      "outputs": [
        {
          "output_type": "stream",
          "name": "stdout",
          "text": [
            "Collecting quandl\n",
            "  Downloading Quandl-3.7.0-py2.py3-none-any.whl.metadata (1.3 kB)\n",
            "Requirement already satisfied: pandas>=0.14 in /usr/local/lib/python3.11/dist-packages (from quandl) (2.2.2)\n",
            "Requirement already satisfied: numpy>=1.8 in /usr/local/lib/python3.11/dist-packages (from quandl) (1.26.4)\n",
            "Requirement already satisfied: requests>=2.7.0 in /usr/local/lib/python3.11/dist-packages (from quandl) (2.32.3)\n",
            "Collecting inflection>=0.3.1 (from quandl)\n",
            "  Downloading inflection-0.5.1-py2.py3-none-any.whl.metadata (1.7 kB)\n",
            "Requirement already satisfied: python-dateutil in /usr/local/lib/python3.11/dist-packages (from quandl) (2.8.2)\n",
            "Requirement already satisfied: six in /usr/local/lib/python3.11/dist-packages (from quandl) (1.17.0)\n",
            "Requirement already satisfied: more-itertools in /usr/local/lib/python3.11/dist-packages (from quandl) (10.5.0)\n",
            "Requirement already satisfied: pytz>=2020.1 in /usr/local/lib/python3.11/dist-packages (from pandas>=0.14->quandl) (2024.2)\n",
            "Requirement already satisfied: tzdata>=2022.7 in /usr/local/lib/python3.11/dist-packages (from pandas>=0.14->quandl) (2025.1)\n",
            "Requirement already satisfied: charset-normalizer<4,>=2 in /usr/local/lib/python3.11/dist-packages (from requests>=2.7.0->quandl) (3.4.1)\n",
            "Requirement already satisfied: idna<4,>=2.5 in /usr/local/lib/python3.11/dist-packages (from requests>=2.7.0->quandl) (3.10)\n",
            "Requirement already satisfied: urllib3<3,>=1.21.1 in /usr/local/lib/python3.11/dist-packages (from requests>=2.7.0->quandl) (2.3.0)\n",
            "Requirement already satisfied: certifi>=2017.4.17 in /usr/local/lib/python3.11/dist-packages (from requests>=2.7.0->quandl) (2024.12.14)\n",
            "Downloading Quandl-3.7.0-py2.py3-none-any.whl (26 kB)\n",
            "Downloading inflection-0.5.1-py2.py3-none-any.whl (9.5 kB)\n",
            "Installing collected packages: inflection, quandl\n",
            "Successfully installed inflection-0.5.1 quandl-3.7.0\n"
          ]
        }
      ]
    },
    {
      "cell_type": "code",
      "source": [
        "# set the API key\n",
        "q.ApiConfig.api_key = \"<API key>”\n",
        "\n",
        "#send a get request to query Microsoft's end of day stock prices from 1st #Jan, 2010 to 1st Jan, 2019\n",
        "msft_data = q.get(\"EOD/MSFT\", start_date=\"2010-01-01\", end_date=\"2019-01-01\")\n",
        "\n",
        "# look at the first 5 rows of the dataframe\n",
        "msft_data.head()\n",
        "\n",
        "msft_data.describe()\n",
        "\n",
        "msft_data.resample('M').mean()"
      ],
      "metadata": {
        "id": "oVjperaxsH3v"
      },
      "execution_count": null,
      "outputs": []
    },
    {
      "cell_type": "code",
      "source": [
        "# Import numpy package\n",
        "import numpy as np\n",
        "\n",
        "# assign `Adj Close` to `daily_close`\n",
        "daily_close = msft_data[['Adj_Close']]\n",
        "\n",
        "# returns as fractional change\n",
        "daily_return = daily_close.pct_change()\n",
        "\n",
        "# replacing NA values with 0\n",
        "daily_return.fillna(0, inplace=True)\n",
        "\n",
        "print(daily_return)"
      ],
      "metadata": {
        "colab": {
          "base_uri": "https://localhost:8080/",
          "height": 176
        },
        "id": "VP3LcFa6sH1c",
        "outputId": "c4e5a068-5945-43b9-cb75-7fdad811c1b4"
      },
      "execution_count": 2,
      "outputs": [
        {
          "output_type": "error",
          "ename": "NameError",
          "evalue": "name 'msft_data' is not defined",
          "traceback": [
            "\u001b[0;31m---------------------------------------------------------------------------\u001b[0m",
            "\u001b[0;31mNameError\u001b[0m                                 Traceback (most recent call last)",
            "\u001b[0;32m<ipython-input-2-febf73bee2d7>\u001b[0m in \u001b[0;36m<cell line: 0>\u001b[0;34m()\u001b[0m\n\u001b[1;32m      3\u001b[0m \u001b[0;34m\u001b[0m\u001b[0m\n\u001b[1;32m      4\u001b[0m \u001b[0;31m# assign `Adj Close` to `daily_close`\u001b[0m\u001b[0;34m\u001b[0m\u001b[0;34m\u001b[0m\u001b[0m\n\u001b[0;32m----> 5\u001b[0;31m \u001b[0mdaily_close\u001b[0m \u001b[0;34m=\u001b[0m \u001b[0mmsft_data\u001b[0m\u001b[0;34m[\u001b[0m\u001b[0;34m[\u001b[0m\u001b[0;34m'Adj_Close'\u001b[0m\u001b[0;34m]\u001b[0m\u001b[0;34m]\u001b[0m\u001b[0;34m\u001b[0m\u001b[0;34m\u001b[0m\u001b[0m\n\u001b[0m",
            "\u001b[0;31mNameError\u001b[0m: name 'msft_data' is not defined"
          ]
        }
      ]
    },
    {
      "cell_type": "code",
      "source": [
        "mdata = msft_data.resample('M').apply(lambda x: x[-1])\n",
        "monthly_return = mdata.pct_change()"
      ],
      "metadata": {
        "id": "bKk46ICfs71t"
      },
      "execution_count": null,
      "outputs": []
    },
    {
      "cell_type": "code",
      "source": [
        "Lambda: expression"
      ],
      "metadata": {
        "id": "SsJsuVootHGW"
      },
      "execution_count": null,
      "outputs": []
    },
    {
      "cell_type": "code",
      "source": [
        "# assigning adjusted closing prices to\n",
        "adj_pricesadj_price = msft_data['Adj_Close']\n",
        "\n",
        "# calculate the moving average\n",
        "mav = adj_price.rolling(window=50).mean()\n",
        "\n",
        "# print the result\n",
        "print(mav[-10:])"
      ],
      "metadata": {
        "id": "cpDS8Z4dtI-f"
      },
      "execution_count": null,
      "outputs": []
    },
    {
      "cell_type": "code",
      "source": [
        "# import the matplotlib package to see the plot\n",
        "\n",
        "import matplotlib.pyplot as plt\n",
        "adj_price.plot()\n",
        "mav.plot()\n",
        "\n",
        "# step1: initialize the short and long lookback periods\n",
        "short_lb = 50long_lb = 120\n",
        "\n",
        "# step2: initialize a new DataFrame called signal_df with a signal column\n",
        "signal_df = pd.DataFrame(index=msft_data.index)signal_df['signal'] = 0.0\n",
        "\n",
        "# step3: create a short simple moving average over the short lookback period\n",
        "signal_df['short_mav'] = msft_data['Adj_Close'].rolling(window = short_lb, min_periods=1, center=False).mean()\n",
        "\n",
        "# step4: create long simple moving average over the long lookback period\n",
        "signal_df['long_mav'] = msft_data['Adj_Close'].rolling(window=long_lb, min_periods=1, center=False).mean()\n",
        "\n",
        "# step5: generate the signals based on the conditional statement\n",
        "signal_df['signal'][short_lb:] = np.where(signal_df['short_mav'][short_lb:] > signal_df['long_mav'][short_lb:], 1.0, 0.0)\n",
        "\n",
        "# step6: create the trading orders based on the positions column\n",
        "signal_df['positions'] = signal_df['signal'].diff()signal_df[signal_df['positions'] == -1.0]\n",
        "\n",
        "# initialize the plot using plt\n",
        "fig = plt.figure()\n",
        "\n",
        "# Add a subplot and label for y-axis\n",
        "plt1 = fig.add_subplot(111,  ylabel='Price in $')\n",
        "\n",
        "msft_data['Adj_Close'].plot(ax=plt1, color='r', lw=2.)\n",
        "\n",
        "# plot the short and long lookback moving averages\n",
        "signal_df[['short_mav', 'long_mav']].plot(ax=plt1, lw=2., figsize=(12,8))\n",
        "\n",
        "# plotting the sell signals\n",
        "plt1.plot(signal_df.loc[signal_df.positions == -1.0].index, signal_df.short_mav[signal_df.positions == -1.0],'v', markersize=10, color='k')\n",
        "\n",
        "# plotting the buy signals\n",
        "plt1.plot(signal_df.loc[signal_df.positions == 1.0].index, signal_df.short_mav[signal_df.positions == 1.0],'^', markersize=10, color='m')\n",
        "\n",
        "# Show the plot\n",
        "plt.show()"
      ],
      "metadata": {
        "id": "p2mui3_itS1J"
      },
      "execution_count": null,
      "outputs": []
    }
  ]
}